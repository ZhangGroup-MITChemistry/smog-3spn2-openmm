{
 "cells": [
  {
   "cell_type": "code",
   "execution_count": 1,
   "metadata": {},
   "outputs": [],
   "source": [
    "import numpy as np\n",
    "import pandas as pd\n",
    "import sys\n",
    "import os\n",
    "import simtk.openmm as mm\n",
    "import simtk.openmm.app as app\n",
    "import simtk.unit as unit\n",
    "import mdtraj\n",
    "\n",
    "sys.path.append('../..')\n",
    "\n",
    "from OpenSMOG3SPN2.forcefields.parsers import SMOGParser, DNA3SPN2Parser\n",
    "from OpenSMOG3SPN2.forcefields import SMOG3SPN2Model\n",
    "from OpenSMOG3SPN2.utils.helper_functions import get_WC_paired_seq\n",
    "from OpenSMOG3SPN2.utils.chromatin_helper_functions import remove_histone_tail_dihedrals, get_chromatin_rigid_bodies\n",
    "from OpenSMOG3SPN2.forcefields.rigid import createRigidBodies"
   ]
  },
  {
   "attachments": {},
   "cell_type": "markdown",
   "metadata": {},
   "source": [
    "This is the tutorial for setting tetranucleosome simulation consistent with our lammps settings. This tetranucleosome has NRL value equal to 172. \n",
    "\n",
    "Importantly, in lammps setting, nonbonded interactions between 1-4 atom pairs involving histone tail atoms are excluded, even though we exclude dihedral potentials involving histone tail atoms. "
   ]
  },
  {
   "cell_type": "code",
   "execution_count": 2,
   "metadata": {},
   "outputs": [
    {
     "name": "stdout",
     "output_type": "stream",
     "text": [
      "Change to new sequence: ACAGGATGTAACCTGCAGATACTACCAAAAGTGTATTTGGAAACTGCTCCATCAAAAGGCATGTTCAGCTGGATTCCAGCTGAACATGCCTTTTGATGGAGCAGTTTCCAAATACACTTTTGGTAGTATCTGCAGGTGATTCTCCAGGGCGGCCAGTACTTACATGCGGCGGACAGGATGTAACCTGCAGATACTACCAAAAGTGTATTTGGAAACTGCTCCATCAAAAGGCATGTTCAGCTGGATTCCAGCTGAACATGCCTTTTGATGGAGCAGTTTCCAAATACACTTTTGGTAGTATCTGCAGGTGATTCTCCAGGGCGGCCAGTACTTACATGCGGCGGACAGGATGTAACCTGCAGATACTACCAAAAGTGTATTTGGAAACTGCTCCATCAAAAGGCATGTTCAGCTGGATTCCAGCTGAACATGCCTTTTGATGGAGCAGTTTCCAAATACACTTTTGGTAGTATCTGCAGGTGATTCTCCAGGGCGGCCAGTACTTACATGCGGCGGACAGGATGTAACCTGCAGATACTACCAAAAGTGTATTTGGAAACTGCTCCATCAAAAGGCATGTTCAGCTGGATTCCAGCTGAACATGCCTTTTGATGGAGCAGTTTCCAAATACACTTTTGGTAGTATCTGCAGGTGATTCTCCAGCTGGAGAATCACCTGCAGATACTACCAAAAGTGTATTTGGAAACTGCTCCATCAAAAGGCATGTTCAGCTGGAATCCAGCTGAACATGCCTTTTGATGGAGCAGTTTCCAAATACACTTTTGGTAGTATCTGCAGGTTACATCCTGTCCGCCGCATGTAAGTACTGGCCGCCCTGGAGAATCACCTGCAGATACTACCAAAAGTGTATTTGGAAACTGCTCCATCAAAAGGCATGTTCAGCTGGAATCCAGCTGAACATGCCTTTTGATGGAGCAGTTTCCAAATACACTTTTGGTAGTATCTGCAGGTTACATCCTGTCCGCCGCATGTAAGTACTGGCCGCCCTGGAGAATCACCTGCAGATACTACCAAAAGTGTATTTGGAAACTGCTCCATCAAAAGGCATGTTCAGCTGGAATCCAGCTGAACATGCCTTTTGATGGAGCAGTTTCCAAATACACTTTTGGTAGTATCTGCAGGTTACATCCTGTCCGCCGCATGTAAGTACTGGCCGCCCTGGAGAATCACCTGCAGATACTACCAAAAGTGTATTTGGAAACTGCTCCATCAAAAGGCATGTTCAGCTGGAATCCAGCTGAACATGCCTTTTGATGGAGCAGTTTCCAAATACACTTTTGGTAGTATCTGCAGGTTACATCCTGT\n",
      "The input CG molecule is one dsDNA with W-C paired sequence.\n",
      "Use the sequence of the first ssDNA to build the DNA template.\n"
     ]
    },
    {
     "name": "stderr",
     "output_type": "stream",
     "text": [
      "\n",
      "Time used: 00:00:00:01\n"
     ]
    }
   ],
   "source": [
    "# set parameters\n",
    "n_nucl = 4\n",
    "nrl = 172\n",
    "\n",
    "# load histones\n",
    "# pdb-files/histone_{i}.pdb is the pdb of the i-th histone\n",
    "# as histone core is rigid, we do not need to search native pairs\n",
    "tetra_nucl = SMOG3SPN2Model()\n",
    "for i in range(n_nucl):\n",
    "    histone_i_parser = SMOGParser.from_atomistic_pdb(f'pdb-files/histone_{i}.pdb', f'histone_{i}_CA.pdb', \n",
    "                                                     default_parse=False)\n",
    "    histone_i_parser.parse_mol(get_native_pairs=False)\n",
    "    # remove dihedrals involving histone tail atoms\n",
    "    # do not update exclusions after removing dihedrals involving histone tail atoms\n",
    "    histone_i_parser.protein_dihedrals = remove_histone_tail_dihedrals(histone_i_parser.protein_dihedrals)\n",
    "    tetra_nucl.append_mol(histone_i_parser)\n",
    "\n",
    "# load dna with target sequence\n",
    "# note for DNA, full sequence is required, as 3SPN2 does not require dsDNA seuqence to be W-C paired\n",
    "with open('dna_seq.txt', 'r') as f:\n",
    "    seq1 = f.readlines()[0].strip()\n",
    "seq2 = get_WC_paired_seq(seq1)\n",
    "target_seq = seq1 + seq2\n",
    "\n",
    "dna_parser = DNA3SPN2Parser.from_atomistic_pdb('pdb-files/dna.pdb', 'cg_dna.pdb', new_sequence=target_seq)\n",
    "tetra_nucl.append_mol(dna_parser)\n",
    "tetra_nucl.atoms_to_pdb('cg_chromatin.pdb')\n"
   ]
  },
  {
   "attachments": {},
   "cell_type": "markdown",
   "metadata": {},
   "source": [
    "Prepare openmm system, add forces, and run simulation. "
   ]
  },
  {
   "cell_type": "code",
   "execution_count": 3,
   "metadata": {},
   "outputs": [],
   "source": [
    "# prepare system\n",
    "# set rigid body with the coordinates of the final snapshot of traj.dcd\n",
    "top = app.PDBFile('cg_chromatin.pdb').getTopology()\n",
    "traj = mdtraj.load_dcd('traj.dcd', 'cg_chromatin.pdb')\n",
    "init_coord = traj.xyz[-1]*unit.nanometer\n",
    "rigid_coord = init_coord\n",
    "tetra_nucl.create_system(top, box_a=200, box_b=200, box_c=200)\n",
    "\n",
    "# parse exclusions and set rigid bodies\n",
    "# though we parse exclusions before setting rigid bodies, we do not change exclusion list when we set rigid bodies, thus avoiding bonded atoms within rigid bodies have extremely strong nonbonded interactions\n",
    "tetra_nucl.parse_all_exclusions()\n",
    "rigid_bodies = get_chromatin_rigid_bodies(n_nucl, nrl, n_rigid_bp_per_nucl=73)\n",
    "tetra_nucl.set_rigid_bodies(rigid_coord, rigid_bodies, keep_unchanged=['protein_exclusions', 'dna_exclusions', \n",
    "                                                                       'exclusions'])\n",
    "\n",
    "# an alternative way to set rigid bodies is using createRigidBodies, which does not remove any bonded interactions within the rigid body\n",
    "# on GPU, removing bonded interactions within rigid bodies may not accelerate simulation a lot\n"
   ]
  },
  {
   "cell_type": "code",
   "execution_count": 4,
   "metadata": {},
   "outputs": [
    {
     "name": "stdout",
     "output_type": "stream",
     "text": [
      "Add protein bonds.\n",
      "Add protein angles.\n",
      "Add DNA bonds.\n",
      "Add DNA angles.\n",
      "Add DNA stackings.\n",
      "Add DNA dihedrals.\n",
      "Add DNA base pairs.\n",
      "Add DNA cross stackings.\n",
      "Add all the nonbonded contact interactions.\n",
      "Add all the electrostatic interactions.\n",
      "For electrostatic interactions, set monovalent salt concentration as 150 mM.\n",
      "For electrostatic interactions, set temperature as 300 K.\n",
      "DNA-DNA dielectric constant is 74.911342375825\n",
      "Protein-protein and protein-DNA dielectric constant is 78.\n"
     ]
    }
   ],
   "source": [
    "# add forces\n",
    "tetra_nucl.add_protein_bonds(force_group=1)\n",
    "tetra_nucl.add_protein_angles(force_group=2)\n",
    "# do not add dihedrals or native pairs, as they are all within rigid bodies\n",
    "# we still reserve force group indices 3 and 4 for dihedrals and native pairs\n",
    "tetra_nucl.add_dna_bonds(force_group=5)\n",
    "tetra_nucl.add_dna_angles(force_group=6)\n",
    "tetra_nucl.add_dna_stackings(force_group=7)\n",
    "tetra_nucl.add_dna_dihedrals(force_group=8)\n",
    "tetra_nucl.add_dna_base_pairs(force_group=9)\n",
    "tetra_nucl.add_dna_cross_stackings(force_group=10)\n",
    "tetra_nucl.parse_all_exclusions()\n",
    "tetra_nucl.add_all_vdwl(force_group=11)\n",
    "tetra_nucl.add_all_elec(force_group=12)\n",
    "tetra_nucl.save_system('rigid_system.xml')"
   ]
  },
  {
   "cell_type": "code",
   "execution_count": null,
   "metadata": {},
   "outputs": [],
   "source": [
    "# set and run simulation\n",
    "temperature = 300*unit.kelvin\n",
    "friction_coeff = 0.01/unit.picosecond\n",
    "timestep = 10*unit.femtosecond\n",
    "integrator = mm.LangevinMiddleIntegrator(temperature, friction_coeff, timestep)\n",
    "tetra_nucl.set_simulation(integrator, platform_name='CUDA', init_coord=init_coord)\n",
    "tetra_nucl.simulation.minimizeEnergy()\n",
    "tetra_nucl.add_reporters(report_interval=100, output_dcd='output.dcd')\n",
    "tetra_nucl.simulation.context.setVelocitiesToTemperature(temperature)\n",
    "tetra_nucl.simulation.step(500)"
   ]
  }
 ],
 "metadata": {
  "kernelspec": {
   "display_name": "py39",
   "language": "python",
   "name": "python3"
  },
  "language_info": {
   "codemirror_mode": {
    "name": "ipython",
    "version": 3
   },
   "file_extension": ".py",
   "mimetype": "text/x-python",
   "name": "python",
   "nbconvert_exporter": "python",
   "pygments_lexer": "ipython3",
   "version": "3.9.16"
  },
  "orig_nbformat": 4
 },
 "nbformat": 4,
 "nbformat_minor": 2
}
