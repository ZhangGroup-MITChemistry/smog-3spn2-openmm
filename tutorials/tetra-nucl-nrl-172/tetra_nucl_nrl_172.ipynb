{
 "cells": [
  {
   "cell_type": "code",
   "execution_count": null,
   "metadata": {},
   "outputs": [],
   "source": [
    "import numpy as np\n",
    "import pandas as pd\n",
    "import sys\n",
    "import os\n",
    "import simtk.openmm as mm\n",
    "import simtk.openmm.app as app\n",
    "import simtk.unit as unit\n",
    "import mdtraj\n",
    "\n",
    "sys.path.append('../..')\n",
    "\n",
    "from OpenSMOG3SPN2.forcefields.parsers import SMOGParser, DNA3SPN2Parser\n",
    "from OpenSMOG3SPN2.forcefields import SMOG3SPN2Model\n",
    "from OpenSMOG3SPN2.utils.helper_functions import get_WC_paired_seq\n",
    "from OpenSMOG3SPN2.utils.chromatin_helper_functions import remove_histone_tail_dihedrals, remove_histone_tail_native_pairs, get_chromatin_rigid_bodies"
   ]
  },
  {
   "attachments": {},
   "cell_type": "markdown",
   "metadata": {},
   "source": [
    "This is the tutorial for setting tetranucleosome simulation. This tetranucleosome has NRL value equal to 172. "
   ]
  },
  {
   "cell_type": "code",
   "execution_count": null,
   "metadata": {},
   "outputs": [],
   "source": [
    "# set parameters\n",
    "n_nucl = 4\n",
    "nrl = 172\n",
    "\n",
    "# load histones\n",
    "# pdb-files/histone_{i}.pdb is the pdb of the i-th histone\n",
    "tetra_nucl = SMOG3SPN2Model()\n",
    "for i in range(n_nucl):\n",
    "    histone_i_parser = SMOGParser.from_atomistic_pdb(f'pdb-files/histone_{i}.pdb', f'histone_{i}_CA.pdb')\n",
    "    old_native_pairs = histone_i_parser.native_pairs\n",
    "    histone_i_parser.native_pairs = remove_histone_tail_native_pairs(old_native_pairs)\n",
    "    old_protein_dihedrals = histone_i_parser.protein_dihedrals\n",
    "    histone_i_parser.protein_dihedrals = remove_histone_tail_dihedrals(old_protein_dihedrals)\n",
    "    tetra_nucl.append_mol(histone_i_parser)\n",
    "\n",
    "# load dna with target sequence\n",
    "# note for DNA, full sequence is required, as 3SPN2 does not require dsDNA seuqence to be W-C paired\n",
    "with open('dna_seq.txt', 'r') as f:\n",
    "    seq1 = f.readlines()[0].strip()\n",
    "seq2 = get_WC_paired_seq(seq1)\n",
    "target_seq = seq1 + seq2\n",
    "\n",
    "dna_parser = DNA3SPN2Parser.from_atomistic_pdb('pdb-files/dna.pdb', new_sequence=target_seq)\n",
    "tetra_nucl.append_mol(dna_parser)\n",
    "tetra_nucl.atoms_to_pdb('cg_chromatin.pdb')\n"
   ]
  },
  {
   "attachments": {},
   "cell_type": "markdown",
   "metadata": {},
   "source": [
    "Prepare openmm system, add forces, and run simulation. "
   ]
  },
  {
   "cell_type": "code",
   "execution_count": null,
   "metadata": {},
   "outputs": [],
   "source": [
    "# prepare system\n",
    "# set rigid body with the coordinates of the final snapshot of traj.dcd\n",
    "top = app.PDBFile('cg_chromatin.pdb').getTopology()\n",
    "traj = mdtraj.load_dcd('traj.dcd', 'cg_chromatin.pdb')\n",
    "init_coord = traj.xyz[-1]*unit.nanometer\n",
    "rigid_coord = init_coord\n",
    "tetra_nucl.create_system(top, box_a=200, box_b=200, box_c=200)\n",
    "\n",
    "# set rigid bodies\n",
    "rigid_bodies = get_chromatin_rigid_bodies(n_nucl, nrl, n_rigid_bp_per_nucl=73)\n",
    "tetra_nucl.set_rigid_bodies(rigid_bodies, rigid_coord)\n"
   ]
  },
  {
   "cell_type": "code",
   "execution_count": null,
   "metadata": {},
   "outputs": [],
   "source": [
    "# add forces\n",
    "tetra_nucl.add_protein_bonds(force_group=1)\n",
    "tetra_nucl.add_protein_angles(force_group=2)\n",
    "tetra_nucl.add_protein_dihedrals(force_group=3)\n",
    "tetra_nucl.add_native_pairs(force_group=4)\n",
    "tetra_nucl.add_dna_bonds(force_group=5)\n",
    "tetra_nucl.add_dna_angles(force_group=6)\n",
    "tetra_nucl.add_dna_stackings(force_group=7)\n",
    "tetra_nucl.add_dna_dihedrals(force_group=8)\n",
    "tetra_nucl.add_dna_base_pairs(force_group=9)\n",
    "tetra_nucl.add_dna_cross_stackings(force_group=10)\n",
    "tetra_nucl.parse_all_exclusions()\n",
    "tetra_nucl.add_all_vdwl(force_group=11)\n",
    "tetra_nucl.add_all_elec(force_group=12)\n",
    "#tetra_nucl.save_system('system.xml')"
   ]
  },
  {
   "cell_type": "code",
   "execution_count": null,
   "metadata": {},
   "outputs": [],
   "source": [
    "# set and run simulation\n",
    "temperature = 300*unit.kelvin\n",
    "friction_coeff = 0.01/unit.picosecond\n",
    "timestep = 10*unit.femtosecond\n",
    "integrator = mm.LangevinMiddleIntegrator(temperature, friction_coeff, timestep)\n",
    "tetra_nucl.set_simulation(integrator, platform_name='CPU', init_coord=init_coord)\n",
    "tetra_nucl.simulation.minimizeEnergy()\n",
    "tetra_nucl.add_reporters(report_interval=100, output_dcd='output.dcd')\n",
    "tetra_nucl.simulation.context.setVelocitiesToTemperature(temperature)\n",
    "tetra_nucl.simulation.step(500)"
   ]
  }
 ],
 "metadata": {
  "kernelspec": {
   "display_name": "py39",
   "language": "python",
   "name": "python3"
  },
  "language_info": {
   "codemirror_mode": {
    "name": "ipython",
    "version": 3
   },
   "file_extension": ".py",
   "mimetype": "text/x-python",
   "name": "python",
   "nbconvert_exporter": "python",
   "pygments_lexer": "ipython3",
   "version": "3.9.16"
  },
  "orig_nbformat": 4
 },
 "nbformat": 4,
 "nbformat_minor": 2
}
