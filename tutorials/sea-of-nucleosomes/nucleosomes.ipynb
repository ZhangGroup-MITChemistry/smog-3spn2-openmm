{
 "cells": [
  {
   "cell_type": "code",
   "execution_count": null,
   "metadata": {},
   "outputs": [],
   "source": [
    "import numpy as np\n",
    "import pandas as pd\n",
    "import sys\n",
    "import os\n",
    "import simtk.openmm as mm\n",
    "import simtk.openmm.app as app\n",
    "import simtk.unit as unit\n",
    "import mdtraj\n",
    "import warnings\n",
    "warnings.filterwarnings('ignore')\n",
    "\n",
    "sys.path.append('../..')\n",
    "\n",
    "from OpenSMOG3SPN2.forcefields.parsers import SMOGParser, DNA3SPN2Parser\n",
    "from OpenSMOG3SPN2.forcefields import SMOG3SPN2Model\n",
    "from OpenSMOG3SPN2.utils.helper_functions import get_WC_paired_seq\n",
    "from OpenSMOG3SPN2.utils.chromatin_helper_functions import get_chromatin_rigid_bodies\n",
    "from OpenSMOG3SPN2.utils.insert import insert_molecules\n",
    "from OpenSMOG3SPN2.forcefields.rigid import createRigidBodies\n"
   ]
  },
  {
   "attachments": {},
   "cell_type": "markdown",
   "metadata": {},
   "source": [
    "We build a simulation box fulfilled with nucleosomes. For simplicity, in this tutorial, we only put 5 nucleosomes in the box."
   ]
  },
  {
   "cell_type": "code",
   "execution_count": null,
   "metadata": {},
   "outputs": [],
   "source": [
    "n_nucl = 5\n",
    "box_a, box_b, box_c = 30, 30, 30\n",
    "multi_nucl = SMOG3SPN2Model()\n"
   ]
  },
  {
   "cell_type": "code",
   "execution_count": null,
   "metadata": {},
   "outputs": [],
   "source": [
    "# load single nucleosomes, first load histone, then load DNA\n",
    "histone_parser = SMOGParser.from_atomistic_pdb('single-nucl-pdb-files/histone.pdb', 'cg_single_nucl_histone.pdb', \n",
    "                                               default_parse=False)\n",
    "histone_parser.parse_mol(get_native_pairs=False)\n",
    "with open('single_nucl_dna_seq.txt', 'r') as f:\n",
    "    seq1 = f.readlines()[0].strip()\n",
    "seq2 = get_WC_paired_seq(seq1)\n",
    "target_seq = seq1 + seq2\n",
    "dna_parser = DNA3SPN2Parser.from_atomistic_pdb('single-nucl-pdb-files/dna.pdb', 'cg_single_nucl_dna.pdb', \n",
    "                                               new_sequence=target_seq, temp_name='dna')\n",
    "single_nucl = SMOG3SPN2Model()\n",
    "single_nucl.append_mol(histone_parser)\n",
    "single_nucl.append_mol(dna_parser)\n",
    "single_nucl.atoms_to_pdb('cg_single_nucl.pdb')"
   ]
  },
  {
   "cell_type": "code",
   "execution_count": null,
   "metadata": {},
   "outputs": [],
   "source": [
    "# prepare pdb\n",
    "if not os.path.exists('start.pdb'):\n",
    "    insert_molecules('cg_single_nucl.pdb', 'start.pdb', n_mol=n_nucl, \n",
    "                     box=[box_a, box_b, box_c])\n",
    "top = app.PDBFile('start.pdb').getTopology()\n",
    "init_coord = app.PDBFile('start.pdb').getPositions()\n",
    "rigid_coord = init_coord\n",
    "\n",
    "for i in range(n_nucl):\n",
    "    multi_nucl.append_mol(histone_parser)\n",
    "    multi_nucl.append_mol(dna_parser)"
   ]
  },
  {
   "cell_type": "code",
   "execution_count": null,
   "metadata": {},
   "outputs": [],
   "source": [
    "# set rigid bodies\n",
    "rigid_bodies = []\n",
    "single_nucl_rigid_body = np.array(get_chromatin_rigid_bodies(n_nucl=1, nrl=147)[0])\n",
    "n_atoms_per_nucl = len(single_nucl.atoms.index)\n",
    "for i in range(n_nucl):\n",
    "    rigid_bodies.append((single_nucl_rigid_body + i*n_atoms_per_nucl).tolist())"
   ]
  },
  {
   "cell_type": "code",
   "execution_count": null,
   "metadata": {},
   "outputs": [],
   "source": [
    "# set system and add forces\n",
    "# no need to add dihedrals and native pairs as we use rigid bodies\n",
    "multi_nucl.create_system(top, box_a=box_a, box_b=box_b, box_c=box_c)\n",
    "createRigidBodies(multi_nucl.system, rigid_coord, rigid_bodies)\n",
    "multi_nucl.add_protein_bonds(force_group=1)\n",
    "multi_nucl.add_protein_angles(force_group=2)\n",
    "multi_nucl.add_dna_bonds(force_group=5)\n",
    "multi_nucl.add_dna_angles(force_group=6)\n",
    "multi_nucl.add_dna_stackings(force_group=7)\n",
    "multi_nucl.add_dna_dihedrals(force_group=8)\n",
    "multi_nucl.add_dna_base_pairs(force_group=9)\n",
    "multi_nucl.add_dna_cross_stackings(force_group=10)\n",
    "multi_nucl.parse_all_exclusions()\n",
    "multi_nucl.add_all_vdwl(force_group=11)\n",
    "multi_nucl.add_all_elec(force_group=12)"
   ]
  },
  {
   "cell_type": "code",
   "execution_count": null,
   "metadata": {},
   "outputs": [],
   "source": [
    "temperature = 300*unit.kelvin\n",
    "friction_coeff = 0.01/unit.picosecond\n",
    "timestep = 10*unit.femtosecond\n",
    "integrator = mm.LangevinMiddleIntegrator(temperature, friction_coeff, timestep)\n",
    "multi_nucl.set_simulation(integrator, platform_name='CPU', init_coord=init_coord)\n",
    "multi_nucl.simulation.minimizeEnergy()\n",
    "multi_nucl.add_reporters(report_interval=100, output_dcd='output.dcd')\n",
    "multi_nucl.simulation.context.setVelocitiesToTemperature(temperature)\n",
    "multi_nucl.simulation.step(500)"
   ]
  }
 ],
 "metadata": {
  "kernelspec": {
   "display_name": "py39",
   "language": "python",
   "name": "python3"
  },
  "language_info": {
   "codemirror_mode": {
    "name": "ipython",
    "version": 3
   },
   "file_extension": ".py",
   "mimetype": "text/x-python",
   "name": "python",
   "nbconvert_exporter": "python",
   "pygments_lexer": "ipython3",
   "version": "3.9.16"
  },
  "orig_nbformat": 4
 },
 "nbformat": 4,
 "nbformat_minor": 2
}
